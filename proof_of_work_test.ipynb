{
 "cells": [
  {
   "cell_type": "code",
   "execution_count": 1,
   "metadata": {},
   "outputs": [],
   "source": [
    "import hashlib\n",
    "def goldenEgg(Nonce=0, data=\"COMSM0010cloud\", difficulty=4, end=242750):\n",
    "    #print(f\"Run {Nonce} {end}\")\n",
    "    prefix = \"0\" * difficulty\n",
    "    flag = 0\n",
    "    hashValue = \"\"\n",
    "    while Nonce <= end:\n",
    "        hashValue = hashlib.sha256((str(Nonce) + data).encode()).hexdigest()\n",
    "        if hashValue[:difficulty] == prefix:\n",
    "            flag = 1\n",
    "            break\n",
    "        Nonce += 1\n",
    "    if (flag == 0):\n",
    "        return 0\n",
    "    else:\n",
    "        print (hashValue)\n",
    "        return Nonce"
   ]
  },
  {
   "cell_type": "code",
   "execution_count": 2,
   "metadata": {},
   "outputs": [
    {
     "name": "stdout",
     "output_type": "stream",
     "text": [
      "1000011100111110011011010011100110111000011000011000111000011000111101100110111111101011100100\n"
     ]
    }
   ],
   "source": [
    "data = \"COMSM0010cloud\"\n",
    "data = ''.join(format(ord(x), 'b') for x in data)\n",
    "print (data)"
   ]
  },
  {
   "cell_type": "code",
   "execution_count": 3,
   "metadata": {},
   "outputs": [
    {
     "name": "stdout",
     "output_type": "stream",
     "text": [
      "1.0001163482666016\n",
      "264504\n"
     ]
    }
   ],
   "source": [
    "import time\n",
    "start_time = time.time()\n",
    "i = 0\n",
    "while (time.time() - start_time) <= 1:\n",
    "    x = goldenEgg(i,data, 10, i +1)\n",
    "    i += 1\n",
    "print (time.time() - start_time)\n",
    "print (i)"
   ]
  },
  {
   "cell_type": "code",
   "execution_count": 4,
   "metadata": {},
   "outputs": [
    {
     "name": "stdout",
     "output_type": "stream",
     "text": [
      "07c0476cc260acafdd81cad1692349f090af7daa262f3c317232cde9475d045a\n",
      "time taken : 0.00011014938354492188\n",
      "Nonce : 4 for 1\n",
      "00ee25ffe06f2f1afc519546c885914ed76ba69746b44b175fea2a1ef5632358\n",
      "time taken : 0.00037789344787597656\n",
      "Nonce : 113 for 2\n",
      "000f5a30b42c60b0f7fa19982660ae56f3efdea5c30dd56e0d0ba965f2c41480\n",
      "time taken : 0.006745815277099609\n",
      "Nonce : 2063 for 3\n"
     ]
    }
   ],
   "source": [
    "for i in range (1,4):\n",
    "    start_time = time.time()\n",
    "    Nonce = goldenEgg(0,data, i, 4294967296)\n",
    "    print (\"time taken :\", (time.time() - start_time))\n",
    "    print (f\"Nonce : {Nonce} for {i}\")"
   ]
  },
  {
   "cell_type": "code",
   "execution_count": 35,
   "metadata": {},
   "outputs": [
    {
     "name": "stdout",
     "output_type": "stream",
     "text": [
      "0000831c9badd0c8537322ff86050effcae43c20c8078675bdcf7c320f641b25\n",
      "time taken : 0.12296915054321289\n",
      "Nonce : 67146 for 4\n",
      "00000f3e5723106001ab0873def54b7d0a706fcebd1d11aa5347199a537be037\n",
      "time taken : 6.839651107788086\n",
      "Nonce : 4330982 for 5\n"
     ]
    }
   ],
   "source": [
    "for i in range (4,6):\n",
    "    start_time = time.time()\n",
    "    Nonce = goldenEgg(0,data, i, 4294967296)\n",
    "    print (\"time taken :\", (time.time() - start_time))\n",
    "    print (f\"Nonce : {Nonce} for {i}\")"
   ]
  },
  {
   "cell_type": "code",
   "execution_count": 36,
   "metadata": {},
   "outputs": [
    {
     "name": "stdout",
     "output_type": "stream",
     "text": [
      "0000005862ce53ec4aa4dc46a10e0e293e9d93169f6a0f5ad844e3d04c51894a\n",
      "time taken : 68.81440019607544\n",
      "Nonce : 42100057 for 6\n"
     ]
    }
   ],
   "source": [
    "start_time = time.time()\n",
    "Nonce = goldenEgg(0,data, 6, 4294967296)\n",
    "print (\"time taken :\", (time.time() - start_time))\n",
    "print (f\"Nonce : {Nonce} for 6\")"
   ]
  },
  {
   "cell_type": "code",
   "execution_count": 37,
   "metadata": {},
   "outputs": [
    {
     "name": "stdout",
     "output_type": "stream",
     "text": [
      "00000006c850bbefad5061910294a586860caee9a316356651ce7f222c3feac0\n",
      "time taken : 308.311399936676\n",
      "Nonce : 190753914 for 7\n"
     ]
    }
   ],
   "source": [
    "start_time = time.time()\n",
    "Nonce = goldenEgg(0,data, 7, 4294967296)\n",
    "print (\"time taken :\", (time.time() - start_time))\n",
    "print (f\"Nonce : {Nonce} for 7\")"
   ]
  },
  {
   "cell_type": "code",
   "execution_count": null,
   "metadata": {},
   "outputs": [],
   "source": [
    "start_time = time.time()\n",
    "Nonce = goldenEgg(0,data, 8, 4294967296)\n",
    "print (\"time taken :\", (time.time() - start_time))\n",
    "print (f\"Nonce : {Nonce} for 8\")"
   ]
  }
 ],
 "metadata": {
  "kernelspec": {
   "display_name": "Python 3",
   "language": "python",
   "name": "python3"
  },
  "language_info": {
   "codemirror_mode": {
    "name": "ipython",
    "version": 3
   },
   "file_extension": ".py",
   "mimetype": "text/x-python",
   "name": "python",
   "nbconvert_exporter": "python",
   "pygments_lexer": "ipython3",
   "version": "3.7.4"
  }
 },
 "nbformat": 4,
 "nbformat_minor": 2
}
